{
 "cells": [
  {
   "cell_type": "markdown",
   "id": "86f8143d-e006-4362-9b4e-7dfe97dd63bc",
   "metadata": {},
   "source": [
    "**PREDICTING AIR QUALITY IN LAGOS**"
   ]
  },
  {
   "cell_type": "code",
   "execution_count": 1,
   "id": "cf8d2b71-6e86-457a-bbab-4c62d4952aca",
   "metadata": {},
   "outputs": [],
   "source": [
    "import pandas as pd\n",
    "import numpy as np\n",
    "import matplotlib.pyplot as plt\n",
    "from sklearn.model_selection import train_test_split\n",
    "from sklearn.linear_model import LinearRegression, Ridge\n",
    "from sklearn.metrics import mean_absolute_error"
   ]
  },
  {
   "cell_type": "code",
   "execution_count": 2,
   "id": "00ea70d2-546b-42b3-8230-c2d0d767e06c",
   "metadata": {},
   "outputs": [],
   "source": [
    "#The parse_dates=[\"date\"] option ensures that the date column is recognized as a date.\n",
    "df = pd.read_csv(\"data/lagos_air_quality.csv\", parse_dates=[\"date\"])\n",
    "\n",
    "# Sort DataFrame by date in ascending order\n",
    "df = df.sort_values(by=\"date\", ascending=True)"
   ]
  },
  {
   "cell_type": "code",
   "execution_count": 3,
   "id": "fa714bdb-c026-411e-a5d2-c944211ad950",
   "metadata": {},
   "outputs": [
    {
     "name": "stdout",
     "output_type": "stream",
     "text": [
      "<class 'pandas.core.frame.DataFrame'>\n",
      "Index: 665 entries, 579 to 3\n",
      "Data columns (total 2 columns):\n",
      " #   Column  Non-Null Count  Dtype         \n",
      "---  ------  --------------  -----         \n",
      " 0   date    665 non-null    datetime64[ns]\n",
      " 1   pm25    665 non-null    int64         \n",
      "dtypes: datetime64[ns](1), int64(1)\n",
      "memory usage: 15.6 KB\n"
     ]
    }
   ],
   "source": [
    "# Display the first few rows and summary statistics\n",
    "df.info()"
   ]
  },
  {
   "cell_type": "code",
   "execution_count": 4,
   "id": "802c5818-5b80-403d-be85-88e35c904997",
   "metadata": {},
   "outputs": [
    {
     "data": {
      "text/html": [
       "<div>\n",
       "<style scoped>\n",
       "    .dataframe tbody tr th:only-of-type {\n",
       "        vertical-align: middle;\n",
       "    }\n",
       "\n",
       "    .dataframe tbody tr th {\n",
       "        vertical-align: top;\n",
       "    }\n",
       "\n",
       "    .dataframe thead th {\n",
       "        text-align: right;\n",
       "    }\n",
       "</style>\n",
       "<table border=\"1\" class=\"dataframe\">\n",
       "  <thead>\n",
       "    <tr style=\"text-align: right;\">\n",
       "      <th></th>\n",
       "      <th>date</th>\n",
       "      <th>pm25</th>\n",
       "    </tr>\n",
       "  </thead>\n",
       "  <tbody>\n",
       "    <tr>\n",
       "      <th>579</th>\n",
       "      <td>2021-01-04</td>\n",
       "      <td>98</td>\n",
       "    </tr>\n",
       "    <tr>\n",
       "      <th>580</th>\n",
       "      <td>2021-01-05</td>\n",
       "      <td>98</td>\n",
       "    </tr>\n",
       "    <tr>\n",
       "      <th>581</th>\n",
       "      <td>2021-01-06</td>\n",
       "      <td>80</td>\n",
       "    </tr>\n",
       "    <tr>\n",
       "      <th>582</th>\n",
       "      <td>2021-01-07</td>\n",
       "      <td>92</td>\n",
       "    </tr>\n",
       "    <tr>\n",
       "      <th>583</th>\n",
       "      <td>2021-01-08</td>\n",
       "      <td>65</td>\n",
       "    </tr>\n",
       "  </tbody>\n",
       "</table>\n",
       "</div>"
      ],
      "text/plain": [
       "          date  pm25\n",
       "579 2021-01-04    98\n",
       "580 2021-01-05    98\n",
       "581 2021-01-06    80\n",
       "582 2021-01-07    92\n",
       "583 2021-01-08    65"
      ]
     },
     "execution_count": 4,
     "metadata": {},
     "output_type": "execute_result"
    }
   ],
   "source": [
    "df.head()"
   ]
  },
  {
   "cell_type": "code",
   "execution_count": 5,
   "id": "170950cc-96bb-445c-bb0d-cea4f4be7845",
   "metadata": {},
   "outputs": [
    {
     "data": {
      "text/html": [
       "<div>\n",
       "<style scoped>\n",
       "    .dataframe tbody tr th:only-of-type {\n",
       "        vertical-align: middle;\n",
       "    }\n",
       "\n",
       "    .dataframe tbody tr th {\n",
       "        vertical-align: top;\n",
       "    }\n",
       "\n",
       "    .dataframe thead th {\n",
       "        text-align: right;\n",
       "    }\n",
       "</style>\n",
       "<table border=\"1\" class=\"dataframe\">\n",
       "  <thead>\n",
       "    <tr style=\"text-align: right;\">\n",
       "      <th></th>\n",
       "      <th>date</th>\n",
       "      <th>pm25</th>\n",
       "    </tr>\n",
       "  </thead>\n",
       "  <tbody>\n",
       "    <tr>\n",
       "      <th>36</th>\n",
       "      <td>2023-03-31</td>\n",
       "      <td>73</td>\n",
       "    </tr>\n",
       "    <tr>\n",
       "      <th>0</th>\n",
       "      <td>2023-04-01</td>\n",
       "      <td>64</td>\n",
       "    </tr>\n",
       "    <tr>\n",
       "      <th>1</th>\n",
       "      <td>2023-04-02</td>\n",
       "      <td>53</td>\n",
       "    </tr>\n",
       "    <tr>\n",
       "      <th>2</th>\n",
       "      <td>2023-04-03</td>\n",
       "      <td>60</td>\n",
       "    </tr>\n",
       "    <tr>\n",
       "      <th>3</th>\n",
       "      <td>2023-04-04</td>\n",
       "      <td>98</td>\n",
       "    </tr>\n",
       "  </tbody>\n",
       "</table>\n",
       "</div>"
      ],
      "text/plain": [
       "         date  pm25\n",
       "36 2023-03-31    73\n",
       "0  2023-04-01    64\n",
       "1  2023-04-02    53\n",
       "2  2023-04-03    60\n",
       "3  2023-04-04    98"
      ]
     },
     "execution_count": 5,
     "metadata": {},
     "output_type": "execute_result"
    }
   ],
   "source": [
    "df.tail()"
   ]
  },
  {
   "cell_type": "markdown",
   "id": "39ca1dae-99bf-46ae-8a3d-131475db4743",
   "metadata": {},
   "source": [
    "**Creating New Time-Based Features**"
   ]
  },
  {
   "cell_type": "markdown",
   "id": "654ed228-582c-4ab6-8237-31eeaa2ee36d",
   "metadata": {},
   "source": [
    "We extract year, month, and day from the date column.\n",
    "\n",
    "This helps the model learn seasonal trends in air quality."
   ]
  },
  {
   "cell_type": "code",
   "execution_count": 6,
   "id": "8992cc1e-159c-4d12-95f1-591a04f37c05",
   "metadata": {},
   "outputs": [],
   "source": [
    "df[\"year\"] = df[\"date\"].dt.year\n",
    "df[\"month\"] = df[\"date\"].dt.month\n",
    "df[\"day\"] = df[\"date\"].dt.day"
   ]
  },
  {
   "cell_type": "code",
   "execution_count": 7,
   "id": "a2182801-6549-428e-b142-8983a8d5887b",
   "metadata": {},
   "outputs": [
    {
     "data": {
      "text/html": [
       "<div>\n",
       "<style scoped>\n",
       "    .dataframe tbody tr th:only-of-type {\n",
       "        vertical-align: middle;\n",
       "    }\n",
       "\n",
       "    .dataframe tbody tr th {\n",
       "        vertical-align: top;\n",
       "    }\n",
       "\n",
       "    .dataframe thead th {\n",
       "        text-align: right;\n",
       "    }\n",
       "</style>\n",
       "<table border=\"1\" class=\"dataframe\">\n",
       "  <thead>\n",
       "    <tr style=\"text-align: right;\">\n",
       "      <th></th>\n",
       "      <th>date</th>\n",
       "      <th>pm25</th>\n",
       "      <th>year</th>\n",
       "      <th>month</th>\n",
       "      <th>day</th>\n",
       "    </tr>\n",
       "  </thead>\n",
       "  <tbody>\n",
       "    <tr>\n",
       "      <th>579</th>\n",
       "      <td>2021-01-04</td>\n",
       "      <td>98</td>\n",
       "      <td>2021</td>\n",
       "      <td>1</td>\n",
       "      <td>4</td>\n",
       "    </tr>\n",
       "    <tr>\n",
       "      <th>580</th>\n",
       "      <td>2021-01-05</td>\n",
       "      <td>98</td>\n",
       "      <td>2021</td>\n",
       "      <td>1</td>\n",
       "      <td>5</td>\n",
       "    </tr>\n",
       "    <tr>\n",
       "      <th>581</th>\n",
       "      <td>2021-01-06</td>\n",
       "      <td>80</td>\n",
       "      <td>2021</td>\n",
       "      <td>1</td>\n",
       "      <td>6</td>\n",
       "    </tr>\n",
       "    <tr>\n",
       "      <th>582</th>\n",
       "      <td>2021-01-07</td>\n",
       "      <td>92</td>\n",
       "      <td>2021</td>\n",
       "      <td>1</td>\n",
       "      <td>7</td>\n",
       "    </tr>\n",
       "    <tr>\n",
       "      <th>583</th>\n",
       "      <td>2021-01-08</td>\n",
       "      <td>65</td>\n",
       "      <td>2021</td>\n",
       "      <td>1</td>\n",
       "      <td>8</td>\n",
       "    </tr>\n",
       "  </tbody>\n",
       "</table>\n",
       "</div>"
      ],
      "text/plain": [
       "          date  pm25  year  month  day\n",
       "579 2021-01-04    98  2021      1    4\n",
       "580 2021-01-05    98  2021      1    5\n",
       "581 2021-01-06    80  2021      1    6\n",
       "582 2021-01-07    92  2021      1    7\n",
       "583 2021-01-08    65  2021      1    8"
      ]
     },
     "execution_count": 7,
     "metadata": {},
     "output_type": "execute_result"
    }
   ],
   "source": [
    "df.head()"
   ]
  },
  {
   "cell_type": "markdown",
   "id": "5595fdb7-df1e-4743-b964-8dc39d9619d5",
   "metadata": {},
   "source": [
    "**Creating Lag Features (Previous PM2.5 Values)**"
   ]
  },
  {
   "cell_type": "markdown",
   "id": "b93e2f51-2597-47b3-912b-0b22424c01b0",
   "metadata": {},
   "source": [
    "This creates a new column, pm25_lag_1, which stores the previous day's PM2.5 value.\n",
    "\n",
    "This helps the model understand how PM2.5 values change over time."
   ]
  },
  {
   "cell_type": "code",
   "execution_count": 8,
   "id": "77b93c9e-8a6f-4394-912c-0849e224f00b",
   "metadata": {},
   "outputs": [],
   "source": [
    "df[\"pm25_lag_1\"] = df[\"pm25\"].shift(1)"
   ]
  },
  {
   "cell_type": "code",
   "execution_count": 9,
   "id": "e66deed7-7660-49c7-b6cb-f57a56de2b2e",
   "metadata": {},
   "outputs": [
    {
     "data": {
      "text/html": [
       "<div>\n",
       "<style scoped>\n",
       "    .dataframe tbody tr th:only-of-type {\n",
       "        vertical-align: middle;\n",
       "    }\n",
       "\n",
       "    .dataframe tbody tr th {\n",
       "        vertical-align: top;\n",
       "    }\n",
       "\n",
       "    .dataframe thead th {\n",
       "        text-align: right;\n",
       "    }\n",
       "</style>\n",
       "<table border=\"1\" class=\"dataframe\">\n",
       "  <thead>\n",
       "    <tr style=\"text-align: right;\">\n",
       "      <th></th>\n",
       "      <th>date</th>\n",
       "      <th>pm25</th>\n",
       "      <th>year</th>\n",
       "      <th>month</th>\n",
       "      <th>day</th>\n",
       "      <th>pm25_lag_1</th>\n",
       "    </tr>\n",
       "  </thead>\n",
       "  <tbody>\n",
       "    <tr>\n",
       "      <th>579</th>\n",
       "      <td>2021-01-04</td>\n",
       "      <td>98</td>\n",
       "      <td>2021</td>\n",
       "      <td>1</td>\n",
       "      <td>4</td>\n",
       "      <td>NaN</td>\n",
       "    </tr>\n",
       "    <tr>\n",
       "      <th>580</th>\n",
       "      <td>2021-01-05</td>\n",
       "      <td>98</td>\n",
       "      <td>2021</td>\n",
       "      <td>1</td>\n",
       "      <td>5</td>\n",
       "      <td>98.0</td>\n",
       "    </tr>\n",
       "    <tr>\n",
       "      <th>581</th>\n",
       "      <td>2021-01-06</td>\n",
       "      <td>80</td>\n",
       "      <td>2021</td>\n",
       "      <td>1</td>\n",
       "      <td>6</td>\n",
       "      <td>98.0</td>\n",
       "    </tr>\n",
       "    <tr>\n",
       "      <th>582</th>\n",
       "      <td>2021-01-07</td>\n",
       "      <td>92</td>\n",
       "      <td>2021</td>\n",
       "      <td>1</td>\n",
       "      <td>7</td>\n",
       "      <td>80.0</td>\n",
       "    </tr>\n",
       "    <tr>\n",
       "      <th>583</th>\n",
       "      <td>2021-01-08</td>\n",
       "      <td>65</td>\n",
       "      <td>2021</td>\n",
       "      <td>1</td>\n",
       "      <td>8</td>\n",
       "      <td>92.0</td>\n",
       "    </tr>\n",
       "  </tbody>\n",
       "</table>\n",
       "</div>"
      ],
      "text/plain": [
       "          date  pm25  year  month  day  pm25_lag_1\n",
       "579 2021-01-04    98  2021      1    4         NaN\n",
       "580 2021-01-05    98  2021      1    5        98.0\n",
       "581 2021-01-06    80  2021      1    6        98.0\n",
       "582 2021-01-07    92  2021      1    7        80.0\n",
       "583 2021-01-08    65  2021      1    8        92.0"
      ]
     },
     "execution_count": 9,
     "metadata": {},
     "output_type": "execute_result"
    }
   ],
   "source": [
    "df.head()"
   ]
  },
  {
   "cell_type": "markdown",
   "id": "da67fe71-fc21-4d64-a66b-f2278117e23e",
   "metadata": {},
   "source": [
    "**Creating Rolling Averages**"
   ]
  },
  {
   "cell_type": "markdown",
   "id": "a71f66ba-e615-4f3e-9ad8-516ce98b8c3e",
   "metadata": {},
   "source": [
    "The model calculates the average PM2.5 over the last 3 days and 7 days.\n",
    "\n",
    "Rolling averages help smooth out fluctuations in air quality readings."
   ]
  },
  {
   "cell_type": "code",
   "execution_count": 10,
   "id": "222d7485-e8b4-46f0-9191-c0c7fb3bcec8",
   "metadata": {},
   "outputs": [],
   "source": [
    "df[\"pm25_rolling_3\"] = df[\"pm25\"].rolling(window=3, min_periods=1).mean()\n",
    "df[\"pm25_rolling_7\"] = df[\"pm25\"].rolling(window=7, min_periods=1).mean()"
   ]
  },
  {
   "cell_type": "code",
   "execution_count": 11,
   "id": "c542f537-5ca8-4772-aa19-5903a06c2cc4",
   "metadata": {},
   "outputs": [
    {
     "data": {
      "text/html": [
       "<div>\n",
       "<style scoped>\n",
       "    .dataframe tbody tr th:only-of-type {\n",
       "        vertical-align: middle;\n",
       "    }\n",
       "\n",
       "    .dataframe tbody tr th {\n",
       "        vertical-align: top;\n",
       "    }\n",
       "\n",
       "    .dataframe thead th {\n",
       "        text-align: right;\n",
       "    }\n",
       "</style>\n",
       "<table border=\"1\" class=\"dataframe\">\n",
       "  <thead>\n",
       "    <tr style=\"text-align: right;\">\n",
       "      <th></th>\n",
       "      <th>date</th>\n",
       "      <th>pm25</th>\n",
       "      <th>year</th>\n",
       "      <th>month</th>\n",
       "      <th>day</th>\n",
       "      <th>pm25_lag_1</th>\n",
       "      <th>pm25_rolling_3</th>\n",
       "      <th>pm25_rolling_7</th>\n",
       "    </tr>\n",
       "  </thead>\n",
       "  <tbody>\n",
       "    <tr>\n",
       "      <th>579</th>\n",
       "      <td>2021-01-04</td>\n",
       "      <td>98</td>\n",
       "      <td>2021</td>\n",
       "      <td>1</td>\n",
       "      <td>4</td>\n",
       "      <td>NaN</td>\n",
       "      <td>98.0</td>\n",
       "      <td>98.0</td>\n",
       "    </tr>\n",
       "    <tr>\n",
       "      <th>580</th>\n",
       "      <td>2021-01-05</td>\n",
       "      <td>98</td>\n",
       "      <td>2021</td>\n",
       "      <td>1</td>\n",
       "      <td>5</td>\n",
       "      <td>98.0</td>\n",
       "      <td>98.0</td>\n",
       "      <td>98.0</td>\n",
       "    </tr>\n",
       "    <tr>\n",
       "      <th>581</th>\n",
       "      <td>2021-01-06</td>\n",
       "      <td>80</td>\n",
       "      <td>2021</td>\n",
       "      <td>1</td>\n",
       "      <td>6</td>\n",
       "      <td>98.0</td>\n",
       "      <td>92.0</td>\n",
       "      <td>92.0</td>\n",
       "    </tr>\n",
       "    <tr>\n",
       "      <th>582</th>\n",
       "      <td>2021-01-07</td>\n",
       "      <td>92</td>\n",
       "      <td>2021</td>\n",
       "      <td>1</td>\n",
       "      <td>7</td>\n",
       "      <td>80.0</td>\n",
       "      <td>90.0</td>\n",
       "      <td>92.0</td>\n",
       "    </tr>\n",
       "    <tr>\n",
       "      <th>583</th>\n",
       "      <td>2021-01-08</td>\n",
       "      <td>65</td>\n",
       "      <td>2021</td>\n",
       "      <td>1</td>\n",
       "      <td>8</td>\n",
       "      <td>92.0</td>\n",
       "      <td>79.0</td>\n",
       "      <td>86.6</td>\n",
       "    </tr>\n",
       "  </tbody>\n",
       "</table>\n",
       "</div>"
      ],
      "text/plain": [
       "          date  pm25  year  month  day  pm25_lag_1  pm25_rolling_3  \\\n",
       "579 2021-01-04    98  2021      1    4         NaN            98.0   \n",
       "580 2021-01-05    98  2021      1    5        98.0            98.0   \n",
       "581 2021-01-06    80  2021      1    6        98.0            92.0   \n",
       "582 2021-01-07    92  2021      1    7        80.0            90.0   \n",
       "583 2021-01-08    65  2021      1    8        92.0            79.0   \n",
       "\n",
       "     pm25_rolling_7  \n",
       "579            98.0  \n",
       "580            98.0  \n",
       "581            92.0  \n",
       "582            92.0  \n",
       "583            86.6  "
      ]
     },
     "execution_count": 11,
     "metadata": {},
     "output_type": "execute_result"
    }
   ],
   "source": [
    "df.head()"
   ]
  },
  {
   "cell_type": "markdown",
   "id": "003bef8f-2e26-41b0-a81f-80dcbef4615f",
   "metadata": {},
   "source": [
    "**Creating Interaction Features**"
   ]
  },
  {
   "cell_type": "markdown",
   "id": "92f2623b-8510-4d64-8534-bb0dac70a589",
   "metadata": {},
   "source": [
    "These features help the model understand how air quality changes depending on the month and day."
   ]
  },
  {
   "cell_type": "code",
   "execution_count": 12,
   "id": "e835dd0a-9272-4b75-b30f-fca5cf05ad59",
   "metadata": {},
   "outputs": [],
   "source": [
    "df[\"month_pm25\"] = df[\"month\"] * df[\"pm25_lag_1\"]\n",
    "df[\"day_pm25\"] = df[\"day\"] * df[\"pm25_lag_1\"]"
   ]
  },
  {
   "cell_type": "code",
   "execution_count": 13,
   "id": "b9f8315e-73da-4001-8b82-39ca730d3c8c",
   "metadata": {},
   "outputs": [
    {
     "data": {
      "text/html": [
       "<div>\n",
       "<style scoped>\n",
       "    .dataframe tbody tr th:only-of-type {\n",
       "        vertical-align: middle;\n",
       "    }\n",
       "\n",
       "    .dataframe tbody tr th {\n",
       "        vertical-align: top;\n",
       "    }\n",
       "\n",
       "    .dataframe thead th {\n",
       "        text-align: right;\n",
       "    }\n",
       "</style>\n",
       "<table border=\"1\" class=\"dataframe\">\n",
       "  <thead>\n",
       "    <tr style=\"text-align: right;\">\n",
       "      <th></th>\n",
       "      <th>date</th>\n",
       "      <th>pm25</th>\n",
       "      <th>year</th>\n",
       "      <th>month</th>\n",
       "      <th>day</th>\n",
       "      <th>pm25_lag_1</th>\n",
       "      <th>pm25_rolling_3</th>\n",
       "      <th>pm25_rolling_7</th>\n",
       "      <th>month_pm25</th>\n",
       "      <th>day_pm25</th>\n",
       "    </tr>\n",
       "  </thead>\n",
       "  <tbody>\n",
       "    <tr>\n",
       "      <th>579</th>\n",
       "      <td>2021-01-04</td>\n",
       "      <td>98</td>\n",
       "      <td>2021</td>\n",
       "      <td>1</td>\n",
       "      <td>4</td>\n",
       "      <td>NaN</td>\n",
       "      <td>98.0</td>\n",
       "      <td>98.0</td>\n",
       "      <td>NaN</td>\n",
       "      <td>NaN</td>\n",
       "    </tr>\n",
       "    <tr>\n",
       "      <th>580</th>\n",
       "      <td>2021-01-05</td>\n",
       "      <td>98</td>\n",
       "      <td>2021</td>\n",
       "      <td>1</td>\n",
       "      <td>5</td>\n",
       "      <td>98.0</td>\n",
       "      <td>98.0</td>\n",
       "      <td>98.0</td>\n",
       "      <td>98.0</td>\n",
       "      <td>490.0</td>\n",
       "    </tr>\n",
       "    <tr>\n",
       "      <th>581</th>\n",
       "      <td>2021-01-06</td>\n",
       "      <td>80</td>\n",
       "      <td>2021</td>\n",
       "      <td>1</td>\n",
       "      <td>6</td>\n",
       "      <td>98.0</td>\n",
       "      <td>92.0</td>\n",
       "      <td>92.0</td>\n",
       "      <td>98.0</td>\n",
       "      <td>588.0</td>\n",
       "    </tr>\n",
       "    <tr>\n",
       "      <th>582</th>\n",
       "      <td>2021-01-07</td>\n",
       "      <td>92</td>\n",
       "      <td>2021</td>\n",
       "      <td>1</td>\n",
       "      <td>7</td>\n",
       "      <td>80.0</td>\n",
       "      <td>90.0</td>\n",
       "      <td>92.0</td>\n",
       "      <td>80.0</td>\n",
       "      <td>560.0</td>\n",
       "    </tr>\n",
       "    <tr>\n",
       "      <th>583</th>\n",
       "      <td>2021-01-08</td>\n",
       "      <td>65</td>\n",
       "      <td>2021</td>\n",
       "      <td>1</td>\n",
       "      <td>8</td>\n",
       "      <td>92.0</td>\n",
       "      <td>79.0</td>\n",
       "      <td>86.6</td>\n",
       "      <td>92.0</td>\n",
       "      <td>736.0</td>\n",
       "    </tr>\n",
       "  </tbody>\n",
       "</table>\n",
       "</div>"
      ],
      "text/plain": [
       "          date  pm25  year  month  day  pm25_lag_1  pm25_rolling_3  \\\n",
       "579 2021-01-04    98  2021      1    4         NaN            98.0   \n",
       "580 2021-01-05    98  2021      1    5        98.0            98.0   \n",
       "581 2021-01-06    80  2021      1    6        98.0            92.0   \n",
       "582 2021-01-07    92  2021      1    7        80.0            90.0   \n",
       "583 2021-01-08    65  2021      1    8        92.0            79.0   \n",
       "\n",
       "     pm25_rolling_7  month_pm25  day_pm25  \n",
       "579            98.0         NaN       NaN  \n",
       "580            98.0        98.0     490.0  \n",
       "581            92.0        98.0     588.0  \n",
       "582            92.0        80.0     560.0  \n",
       "583            86.6        92.0     736.0  "
      ]
     },
     "execution_count": 13,
     "metadata": {},
     "output_type": "execute_result"
    }
   ],
   "source": [
    "df.head()"
   ]
  },
  {
   "cell_type": "markdown",
   "id": "67bcfe50-9b0e-4b4b-9952-3a78241362cd",
   "metadata": {},
   "source": [
    "**Handling Outliers (Capping PM2.5 at 500)**"
   ]
  },
  {
   "cell_type": "markdown",
   "id": "4eadce24-e4bc-4801-9efd-cf19663bf8bd",
   "metadata": {},
   "source": [
    "This ensures that PM2.5 values above 500 are set to 500 because such high levels are too extreme and may be measurement error"
   ]
  },
  {
   "cell_type": "code",
   "execution_count": 14,
   "id": "c02983b6-2a84-4914-afbb-d68a68ea8ae7",
   "metadata": {},
   "outputs": [],
   "source": [
    "df[\"pm25\"] = df[\"pm25\"].apply(lambda x: min(x, 500))"
   ]
  },
  {
   "cell_type": "code",
   "execution_count": 15,
   "id": "6e9ad918-988b-4415-bfdd-ffce20d78380",
   "metadata": {},
   "outputs": [
    {
     "data": {
      "text/html": [
       "<div>\n",
       "<style scoped>\n",
       "    .dataframe tbody tr th:only-of-type {\n",
       "        vertical-align: middle;\n",
       "    }\n",
       "\n",
       "    .dataframe tbody tr th {\n",
       "        vertical-align: top;\n",
       "    }\n",
       "\n",
       "    .dataframe thead th {\n",
       "        text-align: right;\n",
       "    }\n",
       "</style>\n",
       "<table border=\"1\" class=\"dataframe\">\n",
       "  <thead>\n",
       "    <tr style=\"text-align: right;\">\n",
       "      <th></th>\n",
       "      <th>date</th>\n",
       "      <th>pm25</th>\n",
       "      <th>year</th>\n",
       "      <th>month</th>\n",
       "      <th>day</th>\n",
       "      <th>pm25_lag_1</th>\n",
       "      <th>pm25_rolling_3</th>\n",
       "      <th>pm25_rolling_7</th>\n",
       "      <th>month_pm25</th>\n",
       "      <th>day_pm25</th>\n",
       "    </tr>\n",
       "  </thead>\n",
       "  <tbody>\n",
       "    <tr>\n",
       "      <th>579</th>\n",
       "      <td>2021-01-04</td>\n",
       "      <td>98</td>\n",
       "      <td>2021</td>\n",
       "      <td>1</td>\n",
       "      <td>4</td>\n",
       "      <td>NaN</td>\n",
       "      <td>98.0</td>\n",
       "      <td>98.0</td>\n",
       "      <td>NaN</td>\n",
       "      <td>NaN</td>\n",
       "    </tr>\n",
       "    <tr>\n",
       "      <th>580</th>\n",
       "      <td>2021-01-05</td>\n",
       "      <td>98</td>\n",
       "      <td>2021</td>\n",
       "      <td>1</td>\n",
       "      <td>5</td>\n",
       "      <td>98.0</td>\n",
       "      <td>98.0</td>\n",
       "      <td>98.0</td>\n",
       "      <td>98.0</td>\n",
       "      <td>490.0</td>\n",
       "    </tr>\n",
       "    <tr>\n",
       "      <th>581</th>\n",
       "      <td>2021-01-06</td>\n",
       "      <td>80</td>\n",
       "      <td>2021</td>\n",
       "      <td>1</td>\n",
       "      <td>6</td>\n",
       "      <td>98.0</td>\n",
       "      <td>92.0</td>\n",
       "      <td>92.0</td>\n",
       "      <td>98.0</td>\n",
       "      <td>588.0</td>\n",
       "    </tr>\n",
       "    <tr>\n",
       "      <th>582</th>\n",
       "      <td>2021-01-07</td>\n",
       "      <td>92</td>\n",
       "      <td>2021</td>\n",
       "      <td>1</td>\n",
       "      <td>7</td>\n",
       "      <td>80.0</td>\n",
       "      <td>90.0</td>\n",
       "      <td>92.0</td>\n",
       "      <td>80.0</td>\n",
       "      <td>560.0</td>\n",
       "    </tr>\n",
       "    <tr>\n",
       "      <th>583</th>\n",
       "      <td>2021-01-08</td>\n",
       "      <td>65</td>\n",
       "      <td>2021</td>\n",
       "      <td>1</td>\n",
       "      <td>8</td>\n",
       "      <td>92.0</td>\n",
       "      <td>79.0</td>\n",
       "      <td>86.6</td>\n",
       "      <td>92.0</td>\n",
       "      <td>736.0</td>\n",
       "    </tr>\n",
       "  </tbody>\n",
       "</table>\n",
       "</div>"
      ],
      "text/plain": [
       "          date  pm25  year  month  day  pm25_lag_1  pm25_rolling_3  \\\n",
       "579 2021-01-04    98  2021      1    4         NaN            98.0   \n",
       "580 2021-01-05    98  2021      1    5        98.0            98.0   \n",
       "581 2021-01-06    80  2021      1    6        98.0            92.0   \n",
       "582 2021-01-07    92  2021      1    7        80.0            90.0   \n",
       "583 2021-01-08    65  2021      1    8        92.0            79.0   \n",
       "\n",
       "     pm25_rolling_7  month_pm25  day_pm25  \n",
       "579            98.0         NaN       NaN  \n",
       "580            98.0        98.0     490.0  \n",
       "581            92.0        98.0     588.0  \n",
       "582            92.0        80.0     560.0  \n",
       "583            86.6        92.0     736.0  "
      ]
     },
     "execution_count": 15,
     "metadata": {},
     "output_type": "execute_result"
    }
   ],
   "source": [
    "df.head()"
   ]
  },
  {
   "cell_type": "markdown",
   "id": "5d0b11fd-3fa9-49ed-aa49-6830460fce66",
   "metadata": {},
   "source": [
    "**Creating a \"High Pollution Day\" Indicator**"
   ]
  },
  {
   "cell_type": "markdown",
   "id": "1b307e39-7144-403e-b835-1c9ae8f01047",
   "metadata": {},
   "source": [
    "If PM2.5 from the previous day was above 500, we mark that day as 1 (true), else 0 (false).\n",
    "This feature tells the model when pollution was high in the past."
   ]
  },
  {
   "cell_type": "code",
   "execution_count": 16,
   "id": "db824bf7-279e-4ce6-bc6a-4b2871cc2dc0",
   "metadata": {},
   "outputs": [],
   "source": [
    "df[\"high_pollution_day\"] = (df[\"pm25_lag_1\"] > 500).astype(int)"
   ]
  },
  {
   "cell_type": "code",
   "execution_count": 17,
   "id": "290d02b6-2e9e-4ae5-8ffd-c6d8eb844b3b",
   "metadata": {},
   "outputs": [
    {
     "data": {
      "text/html": [
       "<div>\n",
       "<style scoped>\n",
       "    .dataframe tbody tr th:only-of-type {\n",
       "        vertical-align: middle;\n",
       "    }\n",
       "\n",
       "    .dataframe tbody tr th {\n",
       "        vertical-align: top;\n",
       "    }\n",
       "\n",
       "    .dataframe thead th {\n",
       "        text-align: right;\n",
       "    }\n",
       "</style>\n",
       "<table border=\"1\" class=\"dataframe\">\n",
       "  <thead>\n",
       "    <tr style=\"text-align: right;\">\n",
       "      <th></th>\n",
       "      <th>date</th>\n",
       "      <th>pm25</th>\n",
       "      <th>year</th>\n",
       "      <th>month</th>\n",
       "      <th>day</th>\n",
       "      <th>pm25_lag_1</th>\n",
       "      <th>pm25_rolling_3</th>\n",
       "      <th>pm25_rolling_7</th>\n",
       "      <th>month_pm25</th>\n",
       "      <th>day_pm25</th>\n",
       "      <th>high_pollution_day</th>\n",
       "    </tr>\n",
       "  </thead>\n",
       "  <tbody>\n",
       "    <tr>\n",
       "      <th>579</th>\n",
       "      <td>2021-01-04</td>\n",
       "      <td>98</td>\n",
       "      <td>2021</td>\n",
       "      <td>1</td>\n",
       "      <td>4</td>\n",
       "      <td>NaN</td>\n",
       "      <td>98.0</td>\n",
       "      <td>98.0</td>\n",
       "      <td>NaN</td>\n",
       "      <td>NaN</td>\n",
       "      <td>0</td>\n",
       "    </tr>\n",
       "    <tr>\n",
       "      <th>580</th>\n",
       "      <td>2021-01-05</td>\n",
       "      <td>98</td>\n",
       "      <td>2021</td>\n",
       "      <td>1</td>\n",
       "      <td>5</td>\n",
       "      <td>98.0</td>\n",
       "      <td>98.0</td>\n",
       "      <td>98.0</td>\n",
       "      <td>98.0</td>\n",
       "      <td>490.0</td>\n",
       "      <td>0</td>\n",
       "    </tr>\n",
       "    <tr>\n",
       "      <th>581</th>\n",
       "      <td>2021-01-06</td>\n",
       "      <td>80</td>\n",
       "      <td>2021</td>\n",
       "      <td>1</td>\n",
       "      <td>6</td>\n",
       "      <td>98.0</td>\n",
       "      <td>92.0</td>\n",
       "      <td>92.0</td>\n",
       "      <td>98.0</td>\n",
       "      <td>588.0</td>\n",
       "      <td>0</td>\n",
       "    </tr>\n",
       "    <tr>\n",
       "      <th>582</th>\n",
       "      <td>2021-01-07</td>\n",
       "      <td>92</td>\n",
       "      <td>2021</td>\n",
       "      <td>1</td>\n",
       "      <td>7</td>\n",
       "      <td>80.0</td>\n",
       "      <td>90.0</td>\n",
       "      <td>92.0</td>\n",
       "      <td>80.0</td>\n",
       "      <td>560.0</td>\n",
       "      <td>0</td>\n",
       "    </tr>\n",
       "    <tr>\n",
       "      <th>583</th>\n",
       "      <td>2021-01-08</td>\n",
       "      <td>65</td>\n",
       "      <td>2021</td>\n",
       "      <td>1</td>\n",
       "      <td>8</td>\n",
       "      <td>92.0</td>\n",
       "      <td>79.0</td>\n",
       "      <td>86.6</td>\n",
       "      <td>92.0</td>\n",
       "      <td>736.0</td>\n",
       "      <td>0</td>\n",
       "    </tr>\n",
       "  </tbody>\n",
       "</table>\n",
       "</div>"
      ],
      "text/plain": [
       "          date  pm25  year  month  day  pm25_lag_1  pm25_rolling_3  \\\n",
       "579 2021-01-04    98  2021      1    4         NaN            98.0   \n",
       "580 2021-01-05    98  2021      1    5        98.0            98.0   \n",
       "581 2021-01-06    80  2021      1    6        98.0            92.0   \n",
       "582 2021-01-07    92  2021      1    7        80.0            90.0   \n",
       "583 2021-01-08    65  2021      1    8        92.0            79.0   \n",
       "\n",
       "     pm25_rolling_7  month_pm25  day_pm25  high_pollution_day  \n",
       "579            98.0         NaN       NaN                   0  \n",
       "580            98.0        98.0     490.0                   0  \n",
       "581            92.0        98.0     588.0                   0  \n",
       "582            92.0        80.0     560.0                   0  \n",
       "583            86.6        92.0     736.0                   0  "
      ]
     },
     "execution_count": 17,
     "metadata": {},
     "output_type": "execute_result"
    }
   ],
   "source": [
    "df.head()"
   ]
  },
  {
   "cell_type": "markdown",
   "id": "de4376ba-80b8-4a04-b812-c3449f0de78a",
   "metadata": {},
   "source": [
    "**Dropping Missing Values**"
   ]
  },
  {
   "cell_type": "markdown",
   "id": "499e1802-2f5a-49d6-b5f7-ecf4153d759c",
   "metadata": {},
   "source": [
    "Since lag features create empty rows at the beginning, we remove those rows."
   ]
  },
  {
   "cell_type": "code",
   "execution_count": 18,
   "id": "faa4c2cb-fe6f-40b7-86d3-070408563330",
   "metadata": {},
   "outputs": [],
   "source": [
    "df.dropna(inplace=True)"
   ]
  },
  {
   "cell_type": "code",
   "execution_count": 19,
   "id": "ee6c58d9-caf7-4d70-b0d9-dba76375c4a0",
   "metadata": {},
   "outputs": [
    {
     "data": {
      "text/html": [
       "<div>\n",
       "<style scoped>\n",
       "    .dataframe tbody tr th:only-of-type {\n",
       "        vertical-align: middle;\n",
       "    }\n",
       "\n",
       "    .dataframe tbody tr th {\n",
       "        vertical-align: top;\n",
       "    }\n",
       "\n",
       "    .dataframe thead th {\n",
       "        text-align: right;\n",
       "    }\n",
       "</style>\n",
       "<table border=\"1\" class=\"dataframe\">\n",
       "  <thead>\n",
       "    <tr style=\"text-align: right;\">\n",
       "      <th></th>\n",
       "      <th>date</th>\n",
       "      <th>pm25</th>\n",
       "      <th>year</th>\n",
       "      <th>month</th>\n",
       "      <th>day</th>\n",
       "      <th>pm25_lag_1</th>\n",
       "      <th>pm25_rolling_3</th>\n",
       "      <th>pm25_rolling_7</th>\n",
       "      <th>month_pm25</th>\n",
       "      <th>day_pm25</th>\n",
       "      <th>high_pollution_day</th>\n",
       "    </tr>\n",
       "  </thead>\n",
       "  <tbody>\n",
       "    <tr>\n",
       "      <th>580</th>\n",
       "      <td>2021-01-05</td>\n",
       "      <td>98</td>\n",
       "      <td>2021</td>\n",
       "      <td>1</td>\n",
       "      <td>5</td>\n",
       "      <td>98.0</td>\n",
       "      <td>98.000000</td>\n",
       "      <td>98.000000</td>\n",
       "      <td>98.0</td>\n",
       "      <td>490.0</td>\n",
       "      <td>0</td>\n",
       "    </tr>\n",
       "    <tr>\n",
       "      <th>581</th>\n",
       "      <td>2021-01-06</td>\n",
       "      <td>80</td>\n",
       "      <td>2021</td>\n",
       "      <td>1</td>\n",
       "      <td>6</td>\n",
       "      <td>98.0</td>\n",
       "      <td>92.000000</td>\n",
       "      <td>92.000000</td>\n",
       "      <td>98.0</td>\n",
       "      <td>588.0</td>\n",
       "      <td>0</td>\n",
       "    </tr>\n",
       "    <tr>\n",
       "      <th>582</th>\n",
       "      <td>2021-01-07</td>\n",
       "      <td>92</td>\n",
       "      <td>2021</td>\n",
       "      <td>1</td>\n",
       "      <td>7</td>\n",
       "      <td>80.0</td>\n",
       "      <td>90.000000</td>\n",
       "      <td>92.000000</td>\n",
       "      <td>80.0</td>\n",
       "      <td>560.0</td>\n",
       "      <td>0</td>\n",
       "    </tr>\n",
       "    <tr>\n",
       "      <th>583</th>\n",
       "      <td>2021-01-08</td>\n",
       "      <td>65</td>\n",
       "      <td>2021</td>\n",
       "      <td>1</td>\n",
       "      <td>8</td>\n",
       "      <td>92.0</td>\n",
       "      <td>79.000000</td>\n",
       "      <td>86.600000</td>\n",
       "      <td>92.0</td>\n",
       "      <td>736.0</td>\n",
       "      <td>0</td>\n",
       "    </tr>\n",
       "    <tr>\n",
       "      <th>584</th>\n",
       "      <td>2021-01-09</td>\n",
       "      <td>70</td>\n",
       "      <td>2021</td>\n",
       "      <td>1</td>\n",
       "      <td>9</td>\n",
       "      <td>65.0</td>\n",
       "      <td>75.666667</td>\n",
       "      <td>83.833333</td>\n",
       "      <td>65.0</td>\n",
       "      <td>585.0</td>\n",
       "      <td>0</td>\n",
       "    </tr>\n",
       "  </tbody>\n",
       "</table>\n",
       "</div>"
      ],
      "text/plain": [
       "          date  pm25  year  month  day  pm25_lag_1  pm25_rolling_3  \\\n",
       "580 2021-01-05    98  2021      1    5        98.0       98.000000   \n",
       "581 2021-01-06    80  2021      1    6        98.0       92.000000   \n",
       "582 2021-01-07    92  2021      1    7        80.0       90.000000   \n",
       "583 2021-01-08    65  2021      1    8        92.0       79.000000   \n",
       "584 2021-01-09    70  2021      1    9        65.0       75.666667   \n",
       "\n",
       "     pm25_rolling_7  month_pm25  day_pm25  high_pollution_day  \n",
       "580       98.000000        98.0     490.0                   0  \n",
       "581       92.000000        98.0     588.0                   0  \n",
       "582       92.000000        80.0     560.0                   0  \n",
       "583       86.600000        92.0     736.0                   0  \n",
       "584       83.833333        65.0     585.0                   0  "
      ]
     },
     "execution_count": 19,
     "metadata": {},
     "output_type": "execute_result"
    }
   ],
   "source": [
    "df.head()"
   ]
  },
  {
   "cell_type": "markdown",
   "id": "a2a97e91-7f81-4ed2-ad42-ea1d87117042",
   "metadata": {},
   "source": [
    "**Selecting Features for the Model**"
   ]
  },
  {
   "cell_type": "markdown",
   "id": "c4ea3c0f-c70e-481d-ac3b-c0199aaf7b1a",
   "metadata": {},
   "source": [
    "X contains the predictor variables used for making predictions.\n",
    "\n",
    "y contains the actual PM2.5 values (what we are trying to predict)."
   ]
  },
  {
   "cell_type": "code",
   "execution_count": 20,
   "id": "b7c90a08-53ff-4935-a1e6-a5d3a9b7a107",
   "metadata": {},
   "outputs": [],
   "source": [
    "features = [\"pm25_lag_1\", \"pm25_rolling_3\", \"pm25_rolling_7\", \"month\", \"day\", \"year\", \n",
    "            \"month_pm25\", \"day_pm25\", \"high_pollution_day\"]\n",
    "X = df[features]\n",
    "y = df[\"pm25\"]"
   ]
  },
  {
   "cell_type": "code",
   "execution_count": 21,
   "id": "732ffc84-5986-496a-a77b-3d7867092767",
   "metadata": {},
   "outputs": [
    {
     "data": {
      "text/html": [
       "<div>\n",
       "<style scoped>\n",
       "    .dataframe tbody tr th:only-of-type {\n",
       "        vertical-align: middle;\n",
       "    }\n",
       "\n",
       "    .dataframe tbody tr th {\n",
       "        vertical-align: top;\n",
       "    }\n",
       "\n",
       "    .dataframe thead th {\n",
       "        text-align: right;\n",
       "    }\n",
       "</style>\n",
       "<table border=\"1\" class=\"dataframe\">\n",
       "  <thead>\n",
       "    <tr style=\"text-align: right;\">\n",
       "      <th></th>\n",
       "      <th>pm25_lag_1</th>\n",
       "      <th>pm25_rolling_3</th>\n",
       "      <th>pm25_rolling_7</th>\n",
       "      <th>month</th>\n",
       "      <th>day</th>\n",
       "      <th>year</th>\n",
       "      <th>month_pm25</th>\n",
       "      <th>day_pm25</th>\n",
       "      <th>high_pollution_day</th>\n",
       "    </tr>\n",
       "  </thead>\n",
       "  <tbody>\n",
       "    <tr>\n",
       "      <th>580</th>\n",
       "      <td>98.0</td>\n",
       "      <td>98.000000</td>\n",
       "      <td>98.000000</td>\n",
       "      <td>1</td>\n",
       "      <td>5</td>\n",
       "      <td>2021</td>\n",
       "      <td>98.0</td>\n",
       "      <td>490.0</td>\n",
       "      <td>0</td>\n",
       "    </tr>\n",
       "    <tr>\n",
       "      <th>581</th>\n",
       "      <td>98.0</td>\n",
       "      <td>92.000000</td>\n",
       "      <td>92.000000</td>\n",
       "      <td>1</td>\n",
       "      <td>6</td>\n",
       "      <td>2021</td>\n",
       "      <td>98.0</td>\n",
       "      <td>588.0</td>\n",
       "      <td>0</td>\n",
       "    </tr>\n",
       "    <tr>\n",
       "      <th>582</th>\n",
       "      <td>80.0</td>\n",
       "      <td>90.000000</td>\n",
       "      <td>92.000000</td>\n",
       "      <td>1</td>\n",
       "      <td>7</td>\n",
       "      <td>2021</td>\n",
       "      <td>80.0</td>\n",
       "      <td>560.0</td>\n",
       "      <td>0</td>\n",
       "    </tr>\n",
       "    <tr>\n",
       "      <th>583</th>\n",
       "      <td>92.0</td>\n",
       "      <td>79.000000</td>\n",
       "      <td>86.600000</td>\n",
       "      <td>1</td>\n",
       "      <td>8</td>\n",
       "      <td>2021</td>\n",
       "      <td>92.0</td>\n",
       "      <td>736.0</td>\n",
       "      <td>0</td>\n",
       "    </tr>\n",
       "    <tr>\n",
       "      <th>584</th>\n",
       "      <td>65.0</td>\n",
       "      <td>75.666667</td>\n",
       "      <td>83.833333</td>\n",
       "      <td>1</td>\n",
       "      <td>9</td>\n",
       "      <td>2021</td>\n",
       "      <td>65.0</td>\n",
       "      <td>585.0</td>\n",
       "      <td>0</td>\n",
       "    </tr>\n",
       "  </tbody>\n",
       "</table>\n",
       "</div>"
      ],
      "text/plain": [
       "     pm25_lag_1  pm25_rolling_3  pm25_rolling_7  month  day  year  month_pm25  \\\n",
       "580        98.0       98.000000       98.000000      1    5  2021        98.0   \n",
       "581        98.0       92.000000       92.000000      1    6  2021        98.0   \n",
       "582        80.0       90.000000       92.000000      1    7  2021        80.0   \n",
       "583        92.0       79.000000       86.600000      1    8  2021        92.0   \n",
       "584        65.0       75.666667       83.833333      1    9  2021        65.0   \n",
       "\n",
       "     day_pm25  high_pollution_day  \n",
       "580     490.0                   0  \n",
       "581     588.0                   0  \n",
       "582     560.0                   0  \n",
       "583     736.0                   0  \n",
       "584     585.0                   0  "
      ]
     },
     "execution_count": 21,
     "metadata": {},
     "output_type": "execute_result"
    }
   ],
   "source": [
    "X.head()"
   ]
  },
  {
   "cell_type": "markdown",
   "id": "cfbc6e09-df70-41b0-99dc-f1e1b299aa26",
   "metadata": {},
   "source": [
    "**Splitting Data into Training and Testing Sets**"
   ]
  },
  {
   "cell_type": "markdown",
   "id": "bb705876-f49e-4c6c-a19d-073b383e3536",
   "metadata": {},
   "source": [
    "80% of the data is used for training, and 20% for testing to evaluate model performance.\n",
    "\n",
    "We don't shuffle the data because it's time-series data."
   ]
  },
  {
   "cell_type": "code",
   "execution_count": 22,
   "id": "85f50876-4066-481a-b944-a3823540d10b",
   "metadata": {},
   "outputs": [],
   "source": [
    "X_train, X_test, y_train, y_test = train_test_split(X, y, test_size=0.2, shuffle=False)"
   ]
  },
  {
   "cell_type": "markdown",
   "id": "8052ee6b-d70e-4661-ac3e-010bbafa359b",
   "metadata": {},
   "source": [
    "**Training the Linear Regression Model**"
   ]
  },
  {
   "cell_type": "markdown",
   "id": "a2d876fd-b1d9-4018-ac1f-506833cdf3c0",
   "metadata": {},
   "source": [
    "We create and train a Linear Regression model to learn patterns in PM2.5 levels.\n",
    "\n",
    "Then, we use this trained model to predict PM2.5 on the test data."
   ]
  },
  {
   "cell_type": "code",
   "execution_count": 23,
   "id": "5661b755-e96c-4d7a-97c0-3345c49eeec8",
   "metadata": {},
   "outputs": [],
   "source": [
    "lr_model = LinearRegression()\n",
    "lr_model.fit(X_train, y_train)\n",
    "y_pred_lr = lr_model.predict(X_test)"
   ]
  },
  {
   "cell_type": "markdown",
   "id": "0aadab0d-1aa8-4d48-97fb-b34d61f8b4d5",
   "metadata": {},
   "source": [
    "**Training the Ridge Regression Model**"
   ]
  },
  {
   "cell_type": "markdown",
   "id": "d2a63b98-0769-4536-a052-99571c0ae464",
   "metadata": {},
   "source": [
    "We also train a Ridge Regression model, which is similar to Linear Regression but better at handling outliers"
   ]
  },
  {
   "cell_type": "code",
   "execution_count": 24,
   "id": "eac36a02-783f-4df4-9b53-d85dc73db3ad",
   "metadata": {},
   "outputs": [],
   "source": [
    "ridge_model = Ridge(alpha=1.0)\n",
    "ridge_model.fit(X_train, y_train)\n",
    "y_pred_ridge = ridge_model.predict(X_test)"
   ]
  },
  {
   "cell_type": "markdown",
   "id": "ceb866e8-24b6-446f-88af-88c0b4bb7a88",
   "metadata": {},
   "source": [
    "**Creating a Baseline Model (Previous Day's PM2.5)**"
   ]
  },
  {
   "cell_type": "markdown",
   "id": "5a1cb685-f055-45a3-abc9-cda32964a587",
   "metadata": {},
   "source": [
    "A simple baseline model assumes that tomorrow's PM2.5 will be the same as today's.\n",
    "\n",
    "This helps compare our ML models against a simple prediction."
   ]
  },
  {
   "cell_type": "code",
   "execution_count": 25,
   "id": "b1e36e1f-676b-41e4-a97f-d9dc9c178190",
   "metadata": {},
   "outputs": [],
   "source": [
    "baseline_pred = X_test[\"pm25_lag_1\"]"
   ]
  },
  {
   "cell_type": "markdown",
   "id": "4a4681a3-f217-4783-9af9-1473e51d84ce",
   "metadata": {},
   "source": [
    "**Evaluating Model Performance (Mean Absolute Error - MAE)**"
   ]
  },
  {
   "cell_type": "markdown",
   "id": "865a9c58-ff1a-4d64-accd-23704458ed28",
   "metadata": {},
   "source": [
    "Mean Absolute Error (MAE) tells us how far predictions are from actual values (lower is better).\n",
    "\n",
    "We print MAE for all models to compare performance."
   ]
  },
  {
   "cell_type": "code",
   "execution_count": 26,
   "id": "4275a91a-a396-4bfb-b2f4-b905605b465c",
   "metadata": {},
   "outputs": [
    {
     "name": "stdout",
     "output_type": "stream",
     "text": [
      "Model Performance (MAE): {'Baseline Model': 19.082706766917294, 'Linear Regression': 12.735227028342228, 'Ridge Regression': 12.735505578836005}\n"
     ]
    }
   ],
   "source": [
    "mae_baseline = mean_absolute_error(y_test, baseline_pred)\n",
    "mae_lr = mean_absolute_error(y_test, y_pred_lr)\n",
    "mae_ridge = mean_absolute_error(y_test, y_pred_ridge)\n",
    "\n",
    "mae_results = {\n",
    "    \"Baseline Model\": mae_baseline,\n",
    "    \"Linear Regression\": mae_lr,\n",
    "    \"Ridge Regression\": mae_ridge\n",
    "}\n",
    "print(\"Model Performance (MAE):\", mae_results)"
   ]
  },
  {
   "cell_type": "code",
   "execution_count": 27,
   "id": "aa52caa5-fcb1-4406-b64e-046cd046191a",
   "metadata": {},
   "outputs": [
    {
     "data": {
      "image/png": "[encoded data removed]",
      "text/plain": [
       "<Figure size 1200x500 with 1 Axes>"
      ]
     },
     "metadata": {},
     "output_type": "display_data"
    }
   ],
   "source": [
    "plt.figure(figsize=(12, 5))\n",
    "plt.plot(y_test.values, label=\"Actual PM2.5\", marker='o')\n",
    "plt.plot(y_pred_lr, label=\"Linear Regression\", linestyle=\"dashed\")\n",
    "plt.plot(y_pred_ridge, label=\"Ridge Regression\", linestyle=\"dotted\")\n",
    "plt.xlabel(\"Days\")\n",
    "plt.ylabel(\"PM2.5\")\n",
    "plt.title(\"PM2.5 Prediction - Finalized Model\")\n",
    "plt.legend()\n",
    "plt.show()"
   ]
  },
  {
   "cell_type": "markdown",
   "id": "295f8a5e-ba63-4ecc-a0dd-6cbc6b41560d",
   "metadata": {},
   "source": [
    "**Predicting Future PM2.5 Levels**"
   ]
  },
  {
   "cell_type": "markdown",
   "id": "8c768364-f7e9-414c-90cd-f7277b22027c",
   "metadata": {},
   "source": [
    "We predict the next 10 days of PM2.5 using both models and print the results"
   ]
  },
  {
   "cell_type": "code",
   "execution_count": 28,
   "id": "2000ed46-eaeb-43b7-b73d-8651f43b858b",
   "metadata": {},
   "outputs": [],
   "source": [
    "# Define the correct start date for future predictions\n",
    "future_dates = pd.date_range(start=\"2023-04-05\", periods=10, freq=\"D\")"
   ]
  },
  {
   "cell_type": "code",
   "execution_count": 29,
   "id": "4739ca16-4429-4a07-a466-01c279ed6d29",
   "metadata": {},
   "outputs": [],
   "source": [
    "# Copy the last 10 rows from X_test for future predictions\n",
    "future_data = X_test.iloc[-10:].copy()\n",
    "future_data.index = future_dates  # Assign future dates as the index"
   ]
  },
  {
   "cell_type": "code",
   "execution_count": 30,
   "id": "18811a22-b8b5-47a8-959d-437151fc9323",
   "metadata": {},
   "outputs": [],
   "source": [
    "# Predict PM2.5 for the next 10 days\n",
    "future_pm25_lr = lr_model.predict(future_data)\n",
    "future_pm25_ridge = ridge_model.predict(future_data)"
   ]
  },
  {
   "cell_type": "code",
   "execution_count": 31,
   "id": "41863fe2-06ad-4438-a7de-5d2487685746",
   "metadata": {},
   "outputs": [
    {
     "name": "stdout",
     "output_type": "stream",
     "text": [
      "Estimated future PM2.5 levels (Linear Regression):\n",
      "        Date  Predicted_PM2.5\n",
      "0 2023-04-05        44.065977\n",
      "1 2023-04-06        40.186593\n",
      "2 2023-04-07        28.697433\n",
      "3 2023-04-08        39.918600\n",
      "4 2023-04-09        47.378861\n",
      "5 2023-04-10        59.188934\n",
      "6 2023-04-11        66.705097\n",
      "7 2023-04-12        69.052929\n",
      "8 2023-04-13        66.683707\n",
      "9 2023-04-14        80.504528\n",
      "\n",
      "Estimated future PM2.5 levels (Ridge Regression):\n",
      "        Date  Predicted_PM2.5\n",
      "0 2023-04-05        44.076921\n",
      "1 2023-04-06        40.197454\n",
      "2 2023-04-07        28.709110\n",
      "3 2023-04-08        39.929505\n",
      "4 2023-04-09        47.389638\n",
      "5 2023-04-10        59.200041\n",
      "6 2023-04-11        66.716976\n",
      "7 2023-04-12        69.064618\n",
      "8 2023-04-13        66.695269\n",
      "9 2023-04-14        80.516153\n"
     ]
    }
   ],
   "source": [
    "# Print estimated PM2.5 levels\n",
    "print(\"Estimated future PM2.5 levels (Linear Regression):\")\n",
    "print(pd.DataFrame({\"Date\": future_dates, \"Predicted_PM2.5\": future_pm25_lr}))\n",
    "\n",
    "print(\"\\nEstimated future PM2.5 levels (Ridge Regression):\")\n",
    "print(pd.DataFrame({\"Date\": future_dates, \"Predicted_PM2.5\": future_pm25_ridge}))"
   ]
  }
 ],
 "metadata": {
  "kernelspec": {
   "display_name": "Python 3 (ipykernel)",
   "language": "python",
   "name": "python3"
  },
  "language_info": {
   "codemirror_mode": {
    "name": "ipython",
    "version": 3
   },
   "file_extension": ".py",
   "mimetype": "text/x-python",
   "name": "python",
   "nbconvert_exporter": "python",
   "pygments_lexer": "ipython3",
   "version": "3.12.5"
  }
 },
 "nbformat": 4,
 "nbformat_minor": 5
}
